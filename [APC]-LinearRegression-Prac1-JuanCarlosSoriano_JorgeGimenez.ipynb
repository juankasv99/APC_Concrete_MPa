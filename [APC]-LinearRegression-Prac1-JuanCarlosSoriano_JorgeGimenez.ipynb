{
 "cells": [
  {
   "cell_type": "markdown",
   "metadata": {},
   "source": [
    "## 1. Estudio del dataset (C)"
   ]
  },
  {
   "cell_type": "markdown",
   "metadata": {},
   "source": [
    "La idea de este apartado es encapsular todo lo relacionado con el estudio del dataset. Pretendemos entender los datos con los que trabajamos de una manera tanto numérica como gráfica. También tenemos la intención de sacar conclusiones e ideas que nos guíen en los siguientes apartados."
   ]
  },
  {
   "cell_type": "code",
   "execution_count": 1,
   "metadata": {},
   "outputs": [],
   "source": [
    "import numpy as np\n",
    "import pandas as pd\n",
    "from matplotlib import pyplot as plt\n",
    "import seaborn as sns\n",
    "import sklearn.preprocessing as preprocessing\n",
    "from IPython.core.interactiveshell import InteractiveShell\n",
    "pd.set_option('display.float_format', lambda x: '%.3f' % x)\n",
    "pd.set_option('display.max_columns', 15)\n",
    "InteractiveShell.ast_node_interactivity = \"all\"\n",
    "%matplotlib inline\n",
    "from sklearn.preprocessing import StandardScaler\n",
    "from sklearn.linear_model import LinearRegression"
   ]
  },
  {
   "cell_type": "markdown",
   "metadata": {},
   "source": [
    "Primeramente realizamos los imports que nos serán necesarios durante el estudio del dataset y además ajustamos algunas de las opciones tanto de panas, de matplotlib, como del notebook para que la visualización de los datos sea más cómoda."
   ]
  },
  {
   "cell_type": "code",
   "execution_count": 2,
   "metadata": {},
   "outputs": [],
   "source": [
    "originalDF = pd.read_csv('./Database/Concrete_Data_Yeh.csv', header=0, delimiter=',')"
   ]
  },
  {
   "cell_type": "markdown",
   "metadata": {},
   "source": [
    "Cragamos el dataset en un dataframe de pandas usando la función para leer archivos .csv y nombramos la variable como \"originalDF\" ya que como realizaremos modificaciones sobre los datos nos interesa simepre tener disponible el original para poder usar esos datos sin modificar si fuera encesario."
   ]
  },
  {
   "cell_type": "code",
   "execution_count": 3,
   "metadata": {},
   "outputs": [
    {
     "data": {
      "text/html": [
       "<div>\n",
       "<style scoped>\n",
       "    .dataframe tbody tr th:only-of-type {\n",
       "        vertical-align: middle;\n",
       "    }\n",
       "\n",
       "    .dataframe tbody tr th {\n",
       "        vertical-align: top;\n",
       "    }\n",
       "\n",
       "    .dataframe thead th {\n",
       "        text-align: right;\n",
       "    }\n",
       "</style>\n",
       "<table border=\"1\" class=\"dataframe\">\n",
       "  <thead>\n",
       "    <tr style=\"text-align: right;\">\n",
       "      <th></th>\n",
       "      <th>cement</th>\n",
       "      <th>slag</th>\n",
       "      <th>flyash</th>\n",
       "      <th>water</th>\n",
       "      <th>superplasticizer</th>\n",
       "      <th>coarseaggregate</th>\n",
       "      <th>fineaggregate</th>\n",
       "      <th>age</th>\n",
       "      <th>csMPa</th>\n",
       "    </tr>\n",
       "  </thead>\n",
       "  <tbody>\n",
       "    <tr>\n",
       "      <th>0</th>\n",
       "      <td>540.000</td>\n",
       "      <td>0.000</td>\n",
       "      <td>0.000</td>\n",
       "      <td>162.000</td>\n",
       "      <td>2.500</td>\n",
       "      <td>1040.000</td>\n",
       "      <td>676.000</td>\n",
       "      <td>28</td>\n",
       "      <td>79.990</td>\n",
       "    </tr>\n",
       "    <tr>\n",
       "      <th>1</th>\n",
       "      <td>540.000</td>\n",
       "      <td>0.000</td>\n",
       "      <td>0.000</td>\n",
       "      <td>162.000</td>\n",
       "      <td>2.500</td>\n",
       "      <td>1055.000</td>\n",
       "      <td>676.000</td>\n",
       "      <td>28</td>\n",
       "      <td>61.890</td>\n",
       "    </tr>\n",
       "    <tr>\n",
       "      <th>2</th>\n",
       "      <td>332.500</td>\n",
       "      <td>142.500</td>\n",
       "      <td>0.000</td>\n",
       "      <td>228.000</td>\n",
       "      <td>0.000</td>\n",
       "      <td>932.000</td>\n",
       "      <td>594.000</td>\n",
       "      <td>270</td>\n",
       "      <td>40.270</td>\n",
       "    </tr>\n",
       "    <tr>\n",
       "      <th>3</th>\n",
       "      <td>332.500</td>\n",
       "      <td>142.500</td>\n",
       "      <td>0.000</td>\n",
       "      <td>228.000</td>\n",
       "      <td>0.000</td>\n",
       "      <td>932.000</td>\n",
       "      <td>594.000</td>\n",
       "      <td>365</td>\n",
       "      <td>41.050</td>\n",
       "    </tr>\n",
       "    <tr>\n",
       "      <th>4</th>\n",
       "      <td>198.600</td>\n",
       "      <td>132.400</td>\n",
       "      <td>0.000</td>\n",
       "      <td>192.000</td>\n",
       "      <td>0.000</td>\n",
       "      <td>978.400</td>\n",
       "      <td>825.500</td>\n",
       "      <td>360</td>\n",
       "      <td>44.300</td>\n",
       "    </tr>\n",
       "  </tbody>\n",
       "</table>\n",
       "</div>"
      ],
      "text/plain": [
       "   cement    slag  flyash   water  superplasticizer  coarseaggregate  \\\n",
       "0 540.000   0.000   0.000 162.000             2.500         1040.000   \n",
       "1 540.000   0.000   0.000 162.000             2.500         1055.000   \n",
       "2 332.500 142.500   0.000 228.000             0.000          932.000   \n",
       "3 332.500 142.500   0.000 228.000             0.000          932.000   \n",
       "4 198.600 132.400   0.000 192.000             0.000          978.400   \n",
       "\n",
       "   fineaggregate  age  csMPa  \n",
       "0        676.000   28 79.990  \n",
       "1        676.000   28 61.890  \n",
       "2        594.000  270 40.270  \n",
       "3        594.000  365 41.050  \n",
       "4        825.500  360 44.300  "
      ]
     },
     "execution_count": 3,
     "metadata": {},
     "output_type": "execute_result"
    },
    {
     "data": {
      "text/html": [
       "<div>\n",
       "<style scoped>\n",
       "    .dataframe tbody tr th:only-of-type {\n",
       "        vertical-align: middle;\n",
       "    }\n",
       "\n",
       "    .dataframe tbody tr th {\n",
       "        vertical-align: top;\n",
       "    }\n",
       "\n",
       "    .dataframe thead th {\n",
       "        text-align: right;\n",
       "    }\n",
       "</style>\n",
       "<table border=\"1\" class=\"dataframe\">\n",
       "  <thead>\n",
       "    <tr style=\"text-align: right;\">\n",
       "      <th></th>\n",
       "      <th>cement</th>\n",
       "      <th>slag</th>\n",
       "      <th>flyash</th>\n",
       "      <th>water</th>\n",
       "      <th>superplasticizer</th>\n",
       "      <th>coarseaggregate</th>\n",
       "      <th>fineaggregate</th>\n",
       "      <th>age</th>\n",
       "      <th>csMPa</th>\n",
       "    </tr>\n",
       "  </thead>\n",
       "  <tbody>\n",
       "    <tr>\n",
       "      <th>1025</th>\n",
       "      <td>276.400</td>\n",
       "      <td>116.000</td>\n",
       "      <td>90.300</td>\n",
       "      <td>179.600</td>\n",
       "      <td>8.900</td>\n",
       "      <td>870.100</td>\n",
       "      <td>768.300</td>\n",
       "      <td>28</td>\n",
       "      <td>44.280</td>\n",
       "    </tr>\n",
       "    <tr>\n",
       "      <th>1026</th>\n",
       "      <td>322.200</td>\n",
       "      <td>0.000</td>\n",
       "      <td>115.600</td>\n",
       "      <td>196.000</td>\n",
       "      <td>10.400</td>\n",
       "      <td>817.900</td>\n",
       "      <td>813.400</td>\n",
       "      <td>28</td>\n",
       "      <td>31.180</td>\n",
       "    </tr>\n",
       "    <tr>\n",
       "      <th>1027</th>\n",
       "      <td>148.500</td>\n",
       "      <td>139.400</td>\n",
       "      <td>108.600</td>\n",
       "      <td>192.700</td>\n",
       "      <td>6.100</td>\n",
       "      <td>892.400</td>\n",
       "      <td>780.000</td>\n",
       "      <td>28</td>\n",
       "      <td>23.700</td>\n",
       "    </tr>\n",
       "    <tr>\n",
       "      <th>1028</th>\n",
       "      <td>159.100</td>\n",
       "      <td>186.700</td>\n",
       "      <td>0.000</td>\n",
       "      <td>175.600</td>\n",
       "      <td>11.300</td>\n",
       "      <td>989.600</td>\n",
       "      <td>788.900</td>\n",
       "      <td>28</td>\n",
       "      <td>32.770</td>\n",
       "    </tr>\n",
       "    <tr>\n",
       "      <th>1029</th>\n",
       "      <td>260.900</td>\n",
       "      <td>100.500</td>\n",
       "      <td>78.300</td>\n",
       "      <td>200.600</td>\n",
       "      <td>8.600</td>\n",
       "      <td>864.500</td>\n",
       "      <td>761.500</td>\n",
       "      <td>28</td>\n",
       "      <td>32.400</td>\n",
       "    </tr>\n",
       "  </tbody>\n",
       "</table>\n",
       "</div>"
      ],
      "text/plain": [
       "      cement    slag  flyash   water  superplasticizer  coarseaggregate  \\\n",
       "1025 276.400 116.000  90.300 179.600             8.900          870.100   \n",
       "1026 322.200   0.000 115.600 196.000            10.400          817.900   \n",
       "1027 148.500 139.400 108.600 192.700             6.100          892.400   \n",
       "1028 159.100 186.700   0.000 175.600            11.300          989.600   \n",
       "1029 260.900 100.500  78.300 200.600             8.600          864.500   \n",
       "\n",
       "      fineaggregate  age  csMPa  \n",
       "1025        768.300   28 44.280  \n",
       "1026        813.400   28 31.180  \n",
       "1027        780.000   28 23.700  \n",
       "1028        788.900   28 32.770  \n",
       "1029        761.500   28 32.400  "
      ]
     },
     "execution_count": 3,
     "metadata": {},
     "output_type": "execute_result"
    }
   ],
   "source": [
    "originalDF.head()\n",
    "originalDF.tail()"
   ]
  },
  {
   "cell_type": "markdown",
   "metadata": {},
   "source": [
    "Mostraos tanto los primeros 5 registros como los 5 últimos disponibles en nuestro dataset. De esta manera también vemos que disponemos de 1030 registros y un total de 9 variables.  \n",
    "En la página de Kaggle del dataset (https://www.kaggle.com/maajdl/yeh-concret-data) ya está indicado, pero es evidente que nuestra variable objetivo será \"csMPa\". Esto hace referéncia a la fuerza compresiva del hormigón y, por tanto, es la variables más iteresante de intentar predecir.  \n",
    "En la página de Kaggle se nos indica que absolutamente todos los valores, exceptuando \"age\" y \"csMPa\", usan las unidades kg/m3. En cuanto a \"age\" se encuentra en días (de 1 a 365) y en el caso de \"csMPa\", como es de suponer, se encuentra en megapascales (MPa)."
   ]
  },
  {
   "cell_type": "code",
   "execution_count": 4,
   "metadata": {},
   "outputs": [
    {
     "data": {
      "text/html": [
       "<div>\n",
       "<style scoped>\n",
       "    .dataframe tbody tr th:only-of-type {\n",
       "        vertical-align: middle;\n",
       "    }\n",
       "\n",
       "    .dataframe tbody tr th {\n",
       "        vertical-align: top;\n",
       "    }\n",
       "\n",
       "    .dataframe thead th {\n",
       "        text-align: right;\n",
       "    }\n",
       "</style>\n",
       "<table border=\"1\" class=\"dataframe\">\n",
       "  <thead>\n",
       "    <tr style=\"text-align: right;\">\n",
       "      <th></th>\n",
       "      <th>cement</th>\n",
       "      <th>slag</th>\n",
       "      <th>flyash</th>\n",
       "      <th>water</th>\n",
       "      <th>superplasticizer</th>\n",
       "      <th>coarseaggregate</th>\n",
       "      <th>fineaggregate</th>\n",
       "      <th>age</th>\n",
       "      <th>csMPa</th>\n",
       "    </tr>\n",
       "  </thead>\n",
       "  <tbody>\n",
       "    <tr>\n",
       "      <th>count</th>\n",
       "      <td>1030.000</td>\n",
       "      <td>1030.000</td>\n",
       "      <td>1030.000</td>\n",
       "      <td>1030.000</td>\n",
       "      <td>1030.000</td>\n",
       "      <td>1030.000</td>\n",
       "      <td>1030.000</td>\n",
       "      <td>1030.000</td>\n",
       "      <td>1030.000</td>\n",
       "    </tr>\n",
       "    <tr>\n",
       "      <th>mean</th>\n",
       "      <td>281.168</td>\n",
       "      <td>73.896</td>\n",
       "      <td>54.188</td>\n",
       "      <td>181.567</td>\n",
       "      <td>6.205</td>\n",
       "      <td>972.919</td>\n",
       "      <td>773.580</td>\n",
       "      <td>45.662</td>\n",
       "      <td>35.818</td>\n",
       "    </tr>\n",
       "    <tr>\n",
       "      <th>std</th>\n",
       "      <td>104.506</td>\n",
       "      <td>86.279</td>\n",
       "      <td>63.997</td>\n",
       "      <td>21.354</td>\n",
       "      <td>5.974</td>\n",
       "      <td>77.754</td>\n",
       "      <td>80.176</td>\n",
       "      <td>63.170</td>\n",
       "      <td>16.706</td>\n",
       "    </tr>\n",
       "    <tr>\n",
       "      <th>min</th>\n",
       "      <td>102.000</td>\n",
       "      <td>0.000</td>\n",
       "      <td>0.000</td>\n",
       "      <td>121.800</td>\n",
       "      <td>0.000</td>\n",
       "      <td>801.000</td>\n",
       "      <td>594.000</td>\n",
       "      <td>1.000</td>\n",
       "      <td>2.330</td>\n",
       "    </tr>\n",
       "    <tr>\n",
       "      <th>25%</th>\n",
       "      <td>192.375</td>\n",
       "      <td>0.000</td>\n",
       "      <td>0.000</td>\n",
       "      <td>164.900</td>\n",
       "      <td>0.000</td>\n",
       "      <td>932.000</td>\n",
       "      <td>730.950</td>\n",
       "      <td>7.000</td>\n",
       "      <td>23.710</td>\n",
       "    </tr>\n",
       "    <tr>\n",
       "      <th>50%</th>\n",
       "      <td>272.900</td>\n",
       "      <td>22.000</td>\n",
       "      <td>0.000</td>\n",
       "      <td>185.000</td>\n",
       "      <td>6.400</td>\n",
       "      <td>968.000</td>\n",
       "      <td>779.500</td>\n",
       "      <td>28.000</td>\n",
       "      <td>34.445</td>\n",
       "    </tr>\n",
       "    <tr>\n",
       "      <th>75%</th>\n",
       "      <td>350.000</td>\n",
       "      <td>142.950</td>\n",
       "      <td>118.300</td>\n",
       "      <td>192.000</td>\n",
       "      <td>10.200</td>\n",
       "      <td>1029.400</td>\n",
       "      <td>824.000</td>\n",
       "      <td>56.000</td>\n",
       "      <td>46.135</td>\n",
       "    </tr>\n",
       "    <tr>\n",
       "      <th>max</th>\n",
       "      <td>540.000</td>\n",
       "      <td>359.400</td>\n",
       "      <td>200.100</td>\n",
       "      <td>247.000</td>\n",
       "      <td>32.200</td>\n",
       "      <td>1145.000</td>\n",
       "      <td>992.600</td>\n",
       "      <td>365.000</td>\n",
       "      <td>82.600</td>\n",
       "    </tr>\n",
       "  </tbody>\n",
       "</table>\n",
       "</div>"
      ],
      "text/plain": [
       "        cement     slag   flyash    water  superplasticizer  coarseaggregate  \\\n",
       "count 1030.000 1030.000 1030.000 1030.000          1030.000         1030.000   \n",
       "mean   281.168   73.896   54.188  181.567             6.205          972.919   \n",
       "std    104.506   86.279   63.997   21.354             5.974           77.754   \n",
       "min    102.000    0.000    0.000  121.800             0.000          801.000   \n",
       "25%    192.375    0.000    0.000  164.900             0.000          932.000   \n",
       "50%    272.900   22.000    0.000  185.000             6.400          968.000   \n",
       "75%    350.000  142.950  118.300  192.000            10.200         1029.400   \n",
       "max    540.000  359.400  200.100  247.000            32.200         1145.000   \n",
       "\n",
       "       fineaggregate      age    csMPa  \n",
       "count       1030.000 1030.000 1030.000  \n",
       "mean         773.580   45.662   35.818  \n",
       "std           80.176   63.170   16.706  \n",
       "min          594.000    1.000    2.330  \n",
       "25%          730.950    7.000   23.710  \n",
       "50%          779.500   28.000   34.445  \n",
       "75%          824.000   56.000   46.135  \n",
       "max          992.600  365.000   82.600  "
      ]
     },
     "execution_count": 4,
     "metadata": {},
     "output_type": "execute_result"
    },
    {
     "data": {
      "text/plain": [
       "cement              0\n",
       "slag                0\n",
       "flyash              0\n",
       "water               0\n",
       "superplasticizer    0\n",
       "coarseaggregate     0\n",
       "fineaggregate       0\n",
       "age                 0\n",
       "csMPa               0\n",
       "dtype: int64"
      ]
     },
     "execution_count": 4,
     "metadata": {},
     "output_type": "execute_result"
    }
   ],
   "source": [
    "originalDF.describe()\n",
    "originalDF.isnull().sum()"
   ]
  },
  {
   "cell_type": "markdown",
   "metadata": {},
   "source": [
    "Usando el método \"describe\" de pandas obtenemos rápidamente una descripción estadística de cada una de las variables que forman nuestro dataset. También podemos ver que ninguna de las variables tiene valores nulos, lo cuál nunca está de más.  \n",
    "Sin embargo, observamos también que los datos siguen escalas distintas, por lo tanto, sería conveniente que los normalizaramos o estandarizaramos los datos antes de seguir adelante. Por lo que hemos podido leer en distintos lugares (https://stackoverflow.com/a/54573558, https://medium.com/@rrfd/standardize-or-normalize-examples-in-python-e3f174b65dfc), la estandarización suele ser normalmente más beneficiosa que la normalización así que optaremos por ella."
   ]
  },
  {
   "cell_type": "code",
   "execution_count": 5,
   "metadata": {},
   "outputs": [
    {
     "data": {
      "text/html": [
       "<div>\n",
       "<style scoped>\n",
       "    .dataframe tbody tr th:only-of-type {\n",
       "        vertical-align: middle;\n",
       "    }\n",
       "\n",
       "    .dataframe tbody tr th {\n",
       "        vertical-align: top;\n",
       "    }\n",
       "\n",
       "    .dataframe thead th {\n",
       "        text-align: right;\n",
       "    }\n",
       "</style>\n",
       "<table border=\"1\" class=\"dataframe\">\n",
       "  <thead>\n",
       "    <tr style=\"text-align: right;\">\n",
       "      <th></th>\n",
       "      <th>cement</th>\n",
       "      <th>slag</th>\n",
       "      <th>flyash</th>\n",
       "      <th>water</th>\n",
       "      <th>superplasticizer</th>\n",
       "      <th>coarseaggregate</th>\n",
       "      <th>fineaggregate</th>\n",
       "      <th>age</th>\n",
       "      <th>csMPa</th>\n",
       "    </tr>\n",
       "  </thead>\n",
       "  <tbody>\n",
       "    <tr>\n",
       "      <th>count</th>\n",
       "      <td>1030.000</td>\n",
       "      <td>1030.000</td>\n",
       "      <td>1030.000</td>\n",
       "      <td>1030.000</td>\n",
       "      <td>1030.000</td>\n",
       "      <td>1030.000</td>\n",
       "      <td>1030.000</td>\n",
       "      <td>1030.000</td>\n",
       "      <td>1030.000</td>\n",
       "    </tr>\n",
       "    <tr>\n",
       "      <th>mean</th>\n",
       "      <td>-0.000</td>\n",
       "      <td>-0.000</td>\n",
       "      <td>-0.000</td>\n",
       "      <td>-0.000</td>\n",
       "      <td>-0.000</td>\n",
       "      <td>0.000</td>\n",
       "      <td>-0.000</td>\n",
       "      <td>0.000</td>\n",
       "      <td>-0.000</td>\n",
       "    </tr>\n",
       "    <tr>\n",
       "      <th>std</th>\n",
       "      <td>1.000</td>\n",
       "      <td>1.000</td>\n",
       "      <td>1.000</td>\n",
       "      <td>1.000</td>\n",
       "      <td>1.000</td>\n",
       "      <td>1.000</td>\n",
       "      <td>1.000</td>\n",
       "      <td>1.000</td>\n",
       "      <td>1.000</td>\n",
       "    </tr>\n",
       "    <tr>\n",
       "      <th>min</th>\n",
       "      <td>-1.715</td>\n",
       "      <td>-0.857</td>\n",
       "      <td>-0.847</td>\n",
       "      <td>-2.800</td>\n",
       "      <td>-1.039</td>\n",
       "      <td>-2.212</td>\n",
       "      <td>-2.241</td>\n",
       "      <td>-0.707</td>\n",
       "      <td>-2.006</td>\n",
       "    </tr>\n",
       "    <tr>\n",
       "      <th>25%</th>\n",
       "      <td>-0.850</td>\n",
       "      <td>-0.857</td>\n",
       "      <td>-0.847</td>\n",
       "      <td>-0.781</td>\n",
       "      <td>-1.039</td>\n",
       "      <td>-0.527</td>\n",
       "      <td>-0.532</td>\n",
       "      <td>-0.612</td>\n",
       "      <td>-0.725</td>\n",
       "    </tr>\n",
       "    <tr>\n",
       "      <th>50%</th>\n",
       "      <td>-0.079</td>\n",
       "      <td>-0.602</td>\n",
       "      <td>-0.847</td>\n",
       "      <td>0.161</td>\n",
       "      <td>0.033</td>\n",
       "      <td>-0.063</td>\n",
       "      <td>0.074</td>\n",
       "      <td>-0.280</td>\n",
       "      <td>-0.082</td>\n",
       "    </tr>\n",
       "    <tr>\n",
       "      <th>75%</th>\n",
       "      <td>0.659</td>\n",
       "      <td>0.801</td>\n",
       "      <td>1.002</td>\n",
       "      <td>0.489</td>\n",
       "      <td>0.669</td>\n",
       "      <td>0.727</td>\n",
       "      <td>0.629</td>\n",
       "      <td>0.164</td>\n",
       "      <td>0.618</td>\n",
       "    </tr>\n",
       "    <tr>\n",
       "      <th>max</th>\n",
       "      <td>2.478</td>\n",
       "      <td>3.311</td>\n",
       "      <td>2.281</td>\n",
       "      <td>3.066</td>\n",
       "      <td>4.354</td>\n",
       "      <td>2.214</td>\n",
       "      <td>2.733</td>\n",
       "      <td>5.058</td>\n",
       "      <td>2.802</td>\n",
       "    </tr>\n",
       "  </tbody>\n",
       "</table>\n",
       "</div>"
      ],
      "text/plain": [
       "        cement     slag   flyash    water  superplasticizer  coarseaggregate  \\\n",
       "count 1030.000 1030.000 1030.000 1030.000          1030.000         1030.000   \n",
       "mean    -0.000   -0.000   -0.000   -0.000            -0.000            0.000   \n",
       "std      1.000    1.000    1.000    1.000             1.000            1.000   \n",
       "min     -1.715   -0.857   -0.847   -2.800            -1.039           -2.212   \n",
       "25%     -0.850   -0.857   -0.847   -0.781            -1.039           -0.527   \n",
       "50%     -0.079   -0.602   -0.847    0.161             0.033           -0.063   \n",
       "75%      0.659    0.801    1.002    0.489             0.669            0.727   \n",
       "max      2.478    3.311    2.281    3.066             4.354            2.214   \n",
       "\n",
       "       fineaggregate      age    csMPa  \n",
       "count       1030.000 1030.000 1030.000  \n",
       "mean          -0.000    0.000   -0.000  \n",
       "std            1.000    1.000    1.000  \n",
       "min           -2.241   -0.707   -2.006  \n",
       "25%           -0.532   -0.612   -0.725  \n",
       "50%            0.074   -0.280   -0.082  \n",
       "75%            0.629    0.164    0.618  \n",
       "max            2.733    5.058    2.802  "
      ]
     },
     "execution_count": 5,
     "metadata": {},
     "output_type": "execute_result"
    }
   ],
   "source": [
    "standardScaler = preprocessing.StandardScaler()\n",
    "stdDF = pd.DataFrame(standardScaler.fit_transform(originalDF))\n",
    "stdDF.columns = originalDF.columns\n",
    "stdDF.describe()"
   ]
  },
  {
   "cell_type": "markdown",
   "metadata": {},
   "source": [
    "Una vez tenemos el dataset estandarizado sigamos explorando. El siguiente paso que vamos a dar va a ser el de visualizar tanto las correlaciones entre cada variable (incluída 'scMPa', la variable objetivo) así como ver de que manera se distribuyen los puntos de cada variable de entrada respecto a la objetivo.  Para ello nos ayudaremos de los dos siguientes gráficos:"
   ]
  },
  {
   "cell_type": "code",
   "execution_count": 6,
   "metadata": {},
   "outputs": [
    {
     "data": {
      "image/png": "[encoded data removed]",
      "text/plain": [
       "<Figure size 864x432 with 2 Axes>"
      ]
     },
     "metadata": {
      "needs_background": "light"
     },
     "output_type": "display_data"
    }
   ],
   "source": [
    "plt.figure(figsize = (12,6))\n",
    "sns.heatmap(stdDF.corr(), annot=True, linewidths= .75, vmin=-1, vmax=1, cmap='coolwarm')\n",
    "plt.show();"
   ]
  },
  {
   "cell_type": "code",
   "execution_count": 7,
   "metadata": {},
   "outputs": [
    {
     "data": {
      "image/png": "[encoded data removed]",
      "text/plain": [
       "<Figure size 1080x576 with 8 Axes>"
      ]
     },
     "metadata": {
      "needs_background": "light"
     },
     "output_type": "display_data"
    }
   ],
   "source": [
    "fig, axs = plt.subplots(2, 4, figsize=(15,8))\n",
    "\n",
    "varIdx = 0\n",
    "for x in range(2):\n",
    "    for y in range(4):\n",
    "        axs[x,y].set(xlabel=stdDF.columns[varIdx], ylabel='csMPa')\n",
    "        axs[x,y].plot(stdDF[stdDF.columns[varIdx]], stdDF['csMPa'], 'o')\n",
    "        varIdx+=1\n",
    "\n",
    "fig.tight_layout()\n",
    "plt.show();"
   ]
  },
  {
   "cell_type": "code",
   "execution_count": 8,
   "metadata": {},
   "outputs": [
    {
     "data": {
      "text/plain": [
       "<Figure size 1440x360 with 0 Axes>"
      ]
     },
     "execution_count": 8,
     "metadata": {},
     "output_type": "execute_result"
    },
    {
     "data": {
      "text/plain": [
       "Text(0.5, 1.0, 'Distribución datos base')"
      ]
     },
     "execution_count": 8,
     "metadata": {},
     "output_type": "execute_result"
    },
    {
     "data": {
      "image/png": "[encoded data removed]",
      "text/plain": [
       "<Figure size 1440x360 with 1 Axes>"
      ]
     },
     "metadata": {
      "needs_background": "light"
     },
     "output_type": "display_data"
    }
   ],
   "source": [
    "plt.figure(figsize=(20,5))\n",
    "plt.title(\"Distribución datos base\")\n",
    "ax = sns.boxplot(data=originalDF,order=[\"cement\",\"slag\",\"flyash\",\"water\",\"superplasticizer\",\"coarseaggregate\",\"fineaggregate\",\"age\",\"csMPa\"])\n",
    "plt.show()"
   ]
  },
  {
   "cell_type": "code",
   "execution_count": 9,
   "metadata": {},
   "outputs": [
    {
     "data": {
      "text/plain": [
       "<Figure size 1440x360 with 0 Axes>"
      ]
     },
     "execution_count": 9,
     "metadata": {},
     "output_type": "execute_result"
    },
    {
     "data": {
      "text/plain": [
       "Text(0.5, 1.0, 'Distribución datos normalizados')"
      ]
     },
     "execution_count": 9,
     "metadata": {},
     "output_type": "execute_result"
    },
    {
     "data": {
      "image/png": "[encoded data removed]",
      "text/plain": [
       "<Figure size 1440x360 with 1 Axes>"
      ]
     },
     "metadata": {
      "needs_background": "light"
     },
     "output_type": "display_data"
    }
   ],
   "source": [
    "plt.figure(figsize=(20,5))\n",
    "plt.title(\"Distribución datos normalizados\")\n",
    "ax = sns.boxplot(data=stdDF,order=[\"cement\",\"slag\",\"flyash\",\"water\",\"superplasticizer\",\"coarseaggregate\",\"fineaggregate\",\"age\",\"csMPa\"])\n",
    "plt.show()"
   ]
  },
  {
   "cell_type": "markdown",
   "metadata": {},
   "source": [
    "De el primer gráfico podemos obtener información muy valiosa para nuestra regresión lineal, ya que nos indica que variables tienen una mayor correlación con la variable de salida. Estas son 'cement' con un 0.5, 'superlasticizer' con un 0.37, 'age' con un 0.33 y 'water' con una correlación negativa de 0.29.  \n",
    "Sin embargo también vemos algunas correlaciones fuertes entre otras variables como 'water' y 'superplasticizer' que llegan a -0.66, u otras. Por lo tanto, los resultados obtenidos en ésta gráfica son orientativos pero no nos deben frenar de probar cosas con las demás variables más adelante.  \n",
    "  \n",
    "  \n",
    "En cuanto a la segunda gráfica podemos observar, sobretodo, que algunas de nuestras variables tienen problemas. Vemos como 'slag', 'flyash',  y 'superplasticizer' acumulan muchos valores de 'csMPa' distintos al principio de las gráficas. Sin duda es algo a tener en cuenta y seguidamente lo estudiaremos más de cerca haciendo histogramas para las variables. A parte de eso, a simple vista podemos encontrar que, parecen haber algunar correlaciones pero también vemos demasiada dispersión en los puntos.\n",
    "\n",
    "Si nos fijamos en estos últimos 2 gráficos, podemos ver como el dataset presenta unas variables muy dispersas en lo que respecta sus valores, siendo algunos rangos de (0 - 20) hasta (800 - 1150). Si se hiciese cualquier cálculo o abstracción a partir de estos datos, el resultado será, con alta probabilidad, muy dispar a la realidad. Por eso, después de aplicar la estandarización de los datos, tienen unos valores estables y relativos al conjunto de variables. Esto nos dará unos resultados mucho más realistas manteniendo los valores relativos de cada atributo. Aunque los valores presentan una paridad entre ellos, podemos observar como siguen teniendo puntas en sus valores, como bien se muestran con los diamantes en el último gráfico."
   ]
  },
  {
   "cell_type": "markdown",
   "metadata": {},
   "source": [
    "Ahora nos centraremos en estas correlaciones respecto nuestra variable a predecir, la csMPa. A continuación haremos una regresión general para ver los pesos de las diferentes variables sin normalizarlas."
   ]
  },
  {
   "cell_type": "code",
   "execution_count": 11,
   "metadata": {},
   "outputs": [
    {
     "data": {
      "text/plain": [
       "LinearRegression()"
      ]
     },
     "execution_count": 11,
     "metadata": {},
     "output_type": "execute_result"
    },
    {
     "data": {
      "text/plain": [
       "<Figure size 1080x576 with 0 Axes>"
      ]
     },
     "execution_count": 11,
     "metadata": {},
     "output_type": "execute_result"
    },
    {
     "name": "stderr",
     "output_type": "stream",
     "text": [
      "c:\\users\\thela\\appdata\\local\\programs\\python\\python38\\lib\\site-packages\\seaborn\\_decorators.py:36: FutureWarning: Pass the following variables as keyword args: x, y. From version 0.12, the only valid positional argument will be `data`, and passing other arguments without an explicit keyword will result in an error or misinterpretation.\n",
      "  warnings.warn(\n"
     ]
    },
    {
     "data": {
      "text/plain": [
       "<AxesSubplot:>"
      ]
     },
     "execution_count": 11,
     "metadata": {},
     "output_type": "execute_result"
    },
    {
     "data": {
      "image/png": "[encoded data removed]",
      "text/plain": [
       "<Figure size 1080x576 with 1 Axes>"
      ]
     },
     "metadata": {
      "needs_background": "light"
     },
     "output_type": "display_data"
    }
   ],
   "source": [
    "x, y = originalDF.iloc[:,:8], originalDF.iloc[:,8:9]\n",
    "firstLinearModel = LinearRegression()\n",
    "firstLinearModel.fit(x, y)\n",
    "plt.figure(figsize = (15,8))\n",
    "sns.barplot(originalDF.columns[:-1], firstLinearModel.coef_[0], color='blue')\n",
    "plt.show()"
   ]
  },
  {
   "cell_type": "markdown",
   "metadata": {},
   "source": [
    "Podemos observar como el peso más importante de las diferentes variables lo tiene el superplasticizer, un aditivo químico que se le echa a la mezcla para que el agua introducida adquiera una textura mucho más viscosa y el resultado final tenga más resistencia.\n",
    "\n",
    "La gran mayoría de los otros materiales tienen un peso más estabilizado entre ellos que oscila en el 0.1, menos las dos adiciones, tanto la fina como la gruesa, que apenas superando el 0.0. Dónde si vemos otra punta en este caso negativa es en el agua. Esto nos indica que a mayores cantidades de esta substancia en la mezcla menor será la fuerza compresiva del cemento.\n",
    "\n",
    "De momento, esto nos da unas correlaciones aceptables fuera de ningún dato excepcional o a simple vista erróneo."
   ]
  },
  {
   "cell_type": "markdown",
   "metadata": {},
   "source": [
    "Como ya se ha expuesto antes, estos datos no están normalizados, simplemente estamos explorando el dataset asignado. Para hacer los graficos de dispersion de datos ya hemos normalizado las variables para que tengan unos valores similares entre ellas y no tener una dispersión muy alta entre los distintos elementos que componen la mezcla."
   ]
  },
  {
   "cell_type": "code",
   "execution_count": 12,
   "metadata": {},
   "outputs": [
    {
     "data": {
      "text/plain": [
       "LinearRegression()"
      ]
     },
     "execution_count": 12,
     "metadata": {},
     "output_type": "execute_result"
    },
    {
     "data": {
      "text/plain": [
       "<Figure size 1080x576 with 0 Axes>"
      ]
     },
     "execution_count": 12,
     "metadata": {},
     "output_type": "execute_result"
    },
    {
     "name": "stderr",
     "output_type": "stream",
     "text": [
      "c:\\users\\thela\\appdata\\local\\programs\\python\\python38\\lib\\site-packages\\seaborn\\_decorators.py:36: FutureWarning: Pass the following variables as keyword args: x, y. From version 0.12, the only valid positional argument will be `data`, and passing other arguments without an explicit keyword will result in an error or misinterpretation.\n",
      "  warnings.warn(\n"
     ]
    },
    {
     "data": {
      "text/plain": [
       "<AxesSubplot:>"
      ]
     },
     "execution_count": 12,
     "metadata": {},
     "output_type": "execute_result"
    },
    {
     "data": {
      "image/png": "[encoded data removed]",
      "text/plain": [
       "<Figure size 1080x576 with 1 Axes>"
      ]
     },
     "metadata": {
      "needs_background": "light"
     },
     "output_type": "display_data"
    }
   ],
   "source": [
    "stdX, stdY = stdDF.iloc[:,:8], stdDF.iloc[:,8:9]\n",
    "firstLinearModel = LinearRegression()\n",
    "firstLinearModel.fit(stdX, stdY)\n",
    "plt.figure(figsize = (15,8))\n",
    "sns.barplot(stdDF.columns[:-1], firstLinearModel.coef_[0], color='blue')\n",
    "plt.show()"
   ]
  },
  {
   "cell_type": "markdown",
   "metadata": {},
   "source": [
    "Estos son los resultados obtenidos después de normalizar el dataset completo y comprobar de nuevo las correlaciones y los pesos de los distintos materiales con la mezcla final. Vemos un cambio muy brusco comparándolo con el gráfico anterior.\n",
    "\n",
    "Vemos como el cemento, el slag, el flyash y el age han visto crecer sensiblemente sus respectivos pesos. Teniendo en cuenta la primera gráfica de correlación con su mapa de calor podíamos pensar que menos el cemento, estos 3 componentes no tenían mucho que aportar al resultado final del compuesto pero hemos acabado viendo como con todos los valores normalizados esto cambia en gran medida. Ahora tenemos 4 valores positivos que sobrepasan el 0.3 del valor los cuales nos describen los materiales que aportan una relación positiva a su cantidad en la mezcla con la fuerza final del cemento.\n",
    "\n",
    "El agua se mantiene igual, un recurso que responde negativamente a la fuerza del producto final, mientras que los dos agregados (grueso y fino) se mantienen en sus valores anteriores.\n",
    "\n",
    "Todo el contrario al superplasticizer. Esta mezcla química que despuntaba en el gráfico previo ahora ha visto mermada su importancia en el resultado final a un nivel similar a los de los agregados. A este tipo de cambios nos referíamos cuando dijimos previamente que no había que cerrar la posibilidad a probar modelos que no incorporen reglas dependientes de los primeros resultados de la exploración de los datos."
   ]
  },
  {
   "cell_type": "code",
   "execution_count": 13,
   "metadata": {},
   "outputs": [
    {
     "data": {
      "image/png": "[encoded data removed]",
      "text/plain": [
       "<Figure size 936x648 with 9 Axes>"
      ]
     },
     "metadata": {
      "needs_background": "light"
     },
     "output_type": "display_data"
    }
   ],
   "source": [
    "fig, axs = plt.subplots(3, 3)\n",
    "varIdx = 0\n",
    "for x in range(3):\n",
    "    for y in range (3):\n",
    "        plt.sca(axs[x,y])\n",
    "        axs[x,y].set_title(stdDF.columns[varIdx])\n",
    "        stdDF[stdDF.columns[varIdx]].hist(figsize=(13,9))\n",
    "        varIdx+=1\n",
    "fig.tight_layout()\n",
    "plt.show();"
   ]
  },
  {
   "cell_type": "markdown",
   "metadata": {},
   "source": [
    "Como habíamos comentado justo antes, observamos el problema de algunas variables que acumulan una gran cantidad de registros en el inicio de sus histogramas. Intentaremos atacar este problema de distintas maneras en el siguiente apartado para ver en que manera afecta al rendimiento de los modelos y si estos mejoran al modificar estos datos para paliar el problema.  \n",
    "Sin embargo, creemos que si ignoráramos estas acumulaciones de registros que se visualizan al principio de los histogramas, no resultarían unas malas distribuciones."
   ]
  },
  {
   "cell_type": "markdown",
   "metadata": {},
   "source": [
    "## 2. Regresiones Lineales (B)"
   ]
  },
  {
   "cell_type": "markdown",
   "metadata": {},
   "source": [
    "En este apartado pretendemos generar distintos modelos de regresión lineal que podamos comparar. La intención del experimento es ir realizando diferentes cambios en los datos que usaremos para entrenar los modelos con el objetivo de encontrar cuál es el mejor tratamiento de los datos para realizar una regresión lineal que predizca lo mejor posible la variable objetivo de nuestro dataset.  \n",
    "Por lo tanto, para cada modelo que generemos y entrenemos con los datos de 'train', veremos que MSE obtiene en los datos de 'test' y usaremos esa medida para comparar los distintos modelos (a menor MSE, mejor).  \n",
    "  \n",
    "  Por lo tanto, el primer paso será generar estos datos de 'test' y 'train' ayudándonos de la librería sklearn."
   ]
  },
  {
   "cell_type": "code",
   "execution_count": 14,
   "metadata": {},
   "outputs": [],
   "source": [
    "from sklearn.model_selection import train_test_split\n",
    "testSize = 0.2\n",
    "\n",
    "MSEs = {}\n",
    "MSEsAll = {}"
   ]
  },
  {
   "cell_type": "markdown",
   "metadata": {},
   "source": [
    "Esta celda es especialmente importante ya no por la primera línea que simeplemente importa lo necesario para separar os datos en 'train' y 'test' sino por la segunda, que define el % del tamaño total de los datos que usaremos como 'test'."
   ]
  },
  {
   "cell_type": "code",
   "execution_count": 15,
   "metadata": {},
   "outputs": [],
   "source": [
    "xTrain, xTest, yTrain, yTest = train_test_split(stdDF.iloc[:,:8], stdDF.iloc[:,8:9], test_size=testSize, random_state=0)\n",
    "xAll, yAll = stdDF.iloc[:,:8], stdDF.iloc[:,8:9]"
   ]
  },
  {
   "cell_type": "markdown",
   "metadata": {},
   "source": [
    "Ahora ya tenemos los datos separados y listos para entrenar y probar los modelos.  \n",
    "El valor de 'random_state' lo hemos fijado en 0 para que nuestros resultados puedas ser reproducibles facilmente. Esto es así ya que la función 'train_test_split' hace un 'shuffle' de los datos."
   ]
  },
  {
   "cell_type": "code",
   "execution_count": 16,
   "metadata": {},
   "outputs": [],
   "source": [
    "from sklearn.linear_model import LinearRegression"
   ]
  },
  {
   "cell_type": "code",
   "execution_count": 17,
   "metadata": {},
   "outputs": [],
   "source": [
    "def getModelMSE(linearRegModel, xTestData, yTestData):\n",
    "    predictedValues = linearRegModel.predict(xTestData)\n",
    "    return np.square(predictedValues - yTestData).mean()\n",
    "\n",
    "def plotModel(linearRegModel, xTest, yTest, xAll, yAll):\n",
    "    testDataPredictions = linearRegModel.predict(xTest)\n",
    "    allDataPredictions = linearRegModel.predict(xAll)\n",
    "    testMSE = getModelMSE(linearRegModel, xTest, yTest)\n",
    "    allMSE = getModelMSE(linearRegModel, xAll, yAll)\n",
    "    \n",
    "    fig, (ax1, ax2) = plt.subplots(1, 2, figsize=(10,10))\n",
    "\n",
    "    ax1.scatter(testDataPredictions, yTest, s=10)\n",
    "    ax1.plot([yTest.min(), yTest.max()], [yTest.min(), yTest.max()], 'k--', lw=2)\n",
    "    ax1.set_title(f\"Valores de test \\n MSE: {np.round(testMSE,3)}\")\n",
    "    ax1.set_xlabel(\"Predicciones\")\n",
    "    ax1.set_ylabel(\"Valores reales\")\n",
    "\n",
    "    ax2.scatter(allDataPredictions, yAll, s=10)\n",
    "    ax2.plot([yAll.min(), yAll.max()], [yAll.min(), yAll.max()], 'k--', lw=2)\n",
    "    ax2.set_title(f\"Todos los valores \\n MSE: {np.round(allMSE,3)}\")\n",
    "    ax2.set_xlabel(\"Predicciones\")\n",
    "    ax2.set_ylabel(f\"Valores reales\")\n",
    "\n",
    "    ax1.axis('square')\n",
    "    ax2.axis('square')\n",
    "    plt.tight_layout()\n",
    "    plt.show()"
   ]
  },
  {
   "cell_type": "markdown",
   "metadata": {},
   "source": [
    "Estas son funciones que nos ayudarán a dar un valor a los modelos entrenados (MSE, a menor, mejor) así como a visualizarlos."
   ]
  },
  {
   "cell_type": "markdown",
   "metadata": {},
   "source": [
    "### - Un modelo con cada atributo"
   ]
  },
  {
   "cell_type": "markdown",
   "metadata": {},
   "source": [
    "Nuestra intención es obtener el mejor modelo posible y para ello seguramente sea mejor entrenar un modelo que se base en múltiples variables para predecir la variable objetivo que no entrenar un modelo que se base en una únicamente. De todas formas, la práctica lo pide y siempre es un primer paso así que vamos a comparar los distintos modelos que obtenemos si usamos únicamente una variable como 'input' para predecir 'csMpa':"
   ]
  },
  {
   "cell_type": "code",
   "execution_count": 18,
   "metadata": {
    "scrolled": false
   },
   "outputs": [
    {
     "ename": "ValueError",
     "evalue": "illegal value in 4-th argument of internal None",
     "output_type": "error",
     "traceback": [
      "\u001b[1;31m---------------------------------------------------------------------------\u001b[0m",
      "\u001b[1;31mValueError\u001b[0m                                Traceback (most recent call last)",
      "\u001b[1;32m<ipython-input-18-615b9ac054fb>\u001b[0m in \u001b[0;36m<module>\u001b[1;34m\u001b[0m\n\u001b[0;32m      6\u001b[0m     \u001b[0mcurrent_xTest\u001b[0m \u001b[1;33m=\u001b[0m \u001b[0mxTest\u001b[0m\u001b[1;33m[\u001b[0m\u001b[0mvarName\u001b[0m\u001b[1;33m]\u001b[0m\u001b[1;33m.\u001b[0m\u001b[0mvalues\u001b[0m\u001b[1;33m.\u001b[0m\u001b[0mreshape\u001b[0m\u001b[1;33m(\u001b[0m\u001b[1;33m-\u001b[0m\u001b[1;36m1\u001b[0m\u001b[1;33m,\u001b[0m\u001b[1;36m1\u001b[0m\u001b[1;33m)\u001b[0m\u001b[1;33m\u001b[0m\u001b[1;33m\u001b[0m\u001b[0m\n\u001b[0;32m      7\u001b[0m     \u001b[0mcurrent_yTest\u001b[0m \u001b[1;33m=\u001b[0m \u001b[0myTest\u001b[0m\u001b[1;33m\u001b[0m\u001b[1;33m\u001b[0m\u001b[0m\n\u001b[1;32m----> 8\u001b[1;33m     \u001b[0mmodel\u001b[0m \u001b[1;33m=\u001b[0m \u001b[0mLinearRegression\u001b[0m\u001b[1;33m(\u001b[0m\u001b[1;33m)\u001b[0m\u001b[1;33m.\u001b[0m\u001b[0mfit\u001b[0m\u001b[1;33m(\u001b[0m\u001b[0mcurrent_xTrain\u001b[0m\u001b[1;33m,\u001b[0m \u001b[0mcurrent_yTrain\u001b[0m\u001b[1;33m)\u001b[0m\u001b[1;33m\u001b[0m\u001b[1;33m\u001b[0m\u001b[0m\n\u001b[0m\u001b[0;32m      9\u001b[0m     \u001b[0mmses\u001b[0m\u001b[1;33m.\u001b[0m\u001b[0mappend\u001b[0m\u001b[1;33m(\u001b[0m\u001b[0mgetModelMSE\u001b[0m\u001b[1;33m(\u001b[0m\u001b[0mmodel\u001b[0m\u001b[1;33m,\u001b[0m \u001b[0mcurrent_xTest\u001b[0m\u001b[1;33m,\u001b[0m \u001b[0mcurrent_yTest\u001b[0m\u001b[1;33m)\u001b[0m\u001b[1;33m)\u001b[0m\u001b[1;33m\u001b[0m\u001b[1;33m\u001b[0m\u001b[0m\n\u001b[0;32m     10\u001b[0m     \u001b[0mplotModel\u001b[0m\u001b[1;33m(\u001b[0m\u001b[0mmodel\u001b[0m\u001b[1;33m,\u001b[0m \u001b[0mcurrent_xTest\u001b[0m\u001b[1;33m,\u001b[0m \u001b[0myTest\u001b[0m\u001b[1;33m,\u001b[0m \u001b[0mxAll\u001b[0m\u001b[1;33m[\u001b[0m\u001b[0mvarName\u001b[0m\u001b[1;33m]\u001b[0m\u001b[1;33m.\u001b[0m\u001b[0mvalues\u001b[0m\u001b[1;33m.\u001b[0m\u001b[0mreshape\u001b[0m\u001b[1;33m(\u001b[0m\u001b[1;33m-\u001b[0m\u001b[1;36m1\u001b[0m\u001b[1;33m,\u001b[0m\u001b[1;36m1\u001b[0m\u001b[1;33m)\u001b[0m\u001b[1;33m,\u001b[0m \u001b[0myAll\u001b[0m\u001b[1;33m)\u001b[0m\u001b[1;33m;\u001b[0m\u001b[1;33m\u001b[0m\u001b[1;33m\u001b[0m\u001b[0m\n",
      "\u001b[1;32mc:\\users\\thela\\appdata\\local\\programs\\python\\python38\\lib\\site-packages\\sklearn\\linear_model\\_base.py\u001b[0m in \u001b[0;36mfit\u001b[1;34m(self, X, y, sample_weight)\u001b[0m\n\u001b[0;32m    545\u001b[0m         \u001b[1;32melse\u001b[0m\u001b[1;33m:\u001b[0m\u001b[1;33m\u001b[0m\u001b[1;33m\u001b[0m\u001b[0m\n\u001b[0;32m    546\u001b[0m             \u001b[0mself\u001b[0m\u001b[1;33m.\u001b[0m\u001b[0mcoef_\u001b[0m\u001b[1;33m,\u001b[0m \u001b[0mself\u001b[0m\u001b[1;33m.\u001b[0m\u001b[0m_residues\u001b[0m\u001b[1;33m,\u001b[0m \u001b[0mself\u001b[0m\u001b[1;33m.\u001b[0m\u001b[0mrank_\u001b[0m\u001b[1;33m,\u001b[0m \u001b[0mself\u001b[0m\u001b[1;33m.\u001b[0m\u001b[0msingular_\u001b[0m \u001b[1;33m=\u001b[0m\u001b[0;31m \u001b[0m\u001b[0;31m\\\u001b[0m\u001b[1;33m\u001b[0m\u001b[1;33m\u001b[0m\u001b[0m\n\u001b[1;32m--> 547\u001b[1;33m                 \u001b[0mlinalg\u001b[0m\u001b[1;33m.\u001b[0m\u001b[0mlstsq\u001b[0m\u001b[1;33m(\u001b[0m\u001b[0mX\u001b[0m\u001b[1;33m,\u001b[0m \u001b[0my\u001b[0m\u001b[1;33m)\u001b[0m\u001b[1;33m\u001b[0m\u001b[1;33m\u001b[0m\u001b[0m\n\u001b[0m\u001b[0;32m    548\u001b[0m             \u001b[0mself\u001b[0m\u001b[1;33m.\u001b[0m\u001b[0mcoef_\u001b[0m \u001b[1;33m=\u001b[0m \u001b[0mself\u001b[0m\u001b[1;33m.\u001b[0m\u001b[0mcoef_\u001b[0m\u001b[1;33m.\u001b[0m\u001b[0mT\u001b[0m\u001b[1;33m\u001b[0m\u001b[1;33m\u001b[0m\u001b[0m\n\u001b[0;32m    549\u001b[0m \u001b[1;33m\u001b[0m\u001b[0m\n",
      "\u001b[1;32mc:\\users\\thela\\appdata\\local\\programs\\python\\python38\\lib\\site-packages\\scipy\\linalg\\basic.py\u001b[0m in \u001b[0;36mlstsq\u001b[1;34m(a, b, cond, overwrite_a, overwrite_b, check_finite, lapack_driver)\u001b[0m\n\u001b[0;32m   1221\u001b[0m             \u001b[1;32mraise\u001b[0m \u001b[0mLinAlgError\u001b[0m\u001b[1;33m(\u001b[0m\u001b[1;34m\"SVD did not converge in Linear Least Squares\"\u001b[0m\u001b[1;33m)\u001b[0m\u001b[1;33m\u001b[0m\u001b[1;33m\u001b[0m\u001b[0m\n\u001b[0;32m   1222\u001b[0m         \u001b[1;32mif\u001b[0m \u001b[0minfo\u001b[0m \u001b[1;33m<\u001b[0m \u001b[1;36m0\u001b[0m\u001b[1;33m:\u001b[0m\u001b[1;33m\u001b[0m\u001b[1;33m\u001b[0m\u001b[0m\n\u001b[1;32m-> 1223\u001b[1;33m             raise ValueError('illegal value in %d-th argument of internal %s'\n\u001b[0m\u001b[0;32m   1224\u001b[0m                              % (-info, lapack_driver))\n\u001b[0;32m   1225\u001b[0m         \u001b[0mresids\u001b[0m \u001b[1;33m=\u001b[0m \u001b[0mnp\u001b[0m\u001b[1;33m.\u001b[0m\u001b[0masarray\u001b[0m\u001b[1;33m(\u001b[0m\u001b[1;33m[\u001b[0m\u001b[1;33m]\u001b[0m\u001b[1;33m,\u001b[0m \u001b[0mdtype\u001b[0m\u001b[1;33m=\u001b[0m\u001b[0mx\u001b[0m\u001b[1;33m.\u001b[0m\u001b[0mdtype\u001b[0m\u001b[1;33m)\u001b[0m\u001b[1;33m\u001b[0m\u001b[1;33m\u001b[0m\u001b[0m\n",
      "\u001b[1;31mValueError\u001b[0m: illegal value in 4-th argument of internal None"
     ]
    }
   ],
   "source": [
    "mses = []\n",
    "plots = []\n",
    "for varName in xTrain.columns:\n",
    "    current_xTrain = xTrain[varName].values.reshape(-1,1)\n",
    "    current_yTrain = yTrain\n",
    "    current_xTest = xTest[varName].values.reshape(-1,1)\n",
    "    current_yTest = yTest\n",
    "    model = LinearRegression().fit(current_xTrain, current_yTrain)\n",
    "    mses.append(getModelMSE(model, current_xTest, current_yTest))\n",
    "    plotModel(model, current_xTest, yTest, xAll[varName].values.reshape(-1,1), yAll);"
   ]
  },
  {
   "cell_type": "code",
   "execution_count": null,
   "metadata": {},
   "outputs": [],
   "source": [
    "mses = pd.DataFrame(np.asarray(mses), index=xTrain.columns.to_list(), columns=['MSE'])\n",
    "mses.plot.barh();"
   ]
  },
  {
   "cell_type": "markdown",
   "metadata": {},
   "source": [
    "Como era de esperar ninguno de los modelos es 'nada del otro mundo', el mejor de ellos es el que usa 'cement' para predecir 'csMPa', que obtiene un MSE alrededor del 0.6. Era de esperar ya que como hemos visto antes esta es la variable que más correlacionada estaba con la objetivo con un valor 0.5.  \n",
    "Ahora vayamos a por modelos multivariables para intentar mejorar al máximo nuestra predicción."
   ]
  },
  {
   "cell_type": "markdown",
   "metadata": {},
   "source": [
    "### - Modelo base (Alias: 0)"
   ]
  },
  {
   "cell_type": "markdown",
   "metadata": {},
   "source": [
    "Primeramente nos interesa cerar un modelo como 'baseline', este modelo lo crearemos sin aplicar ninguna modificación ni transformación en los datos de tal manera que nos sirva como referéncia para ver si los próximos modelos empeoran o mejora y cuanto empeoran o cuanto mejoran respecto a este primero."
   ]
  },
  {
   "cell_type": "code",
   "execution_count": null,
   "metadata": {},
   "outputs": [],
   "source": [
    "baseModel = LinearRegression().fit(xTrain, yTrain)\n",
    "plotModel(baseModel, xTest, yTest, xAll, yAll)\n",
    "\n",
    "MSEs[\"alias0\"] = getModelMSE(baseModel, xTest, yTest)\n",
    "MSEsAll[\"alias0\"] = getModelMSE(baseModel, xAll, yAll)\n"
   ]
  },
  {
   "cell_type": "markdown",
   "metadata": {},
   "source": [
    "### - Modelo con PCA (Alias: 1)"
   ]
  },
  {
   "cell_type": "markdown",
   "metadata": {},
   "source": [
    "Este modelo no será muy diferente del modelo 1. Lo que haremos será elegir unas cuantas variables (en vez de todas) para entrenar el modelo y ver si obtenemos alguna mejora respecto al modelo 1.  \n",
    "(SIGUE)"
   ]
  },
  {
   "cell_type": "code",
   "execution_count": null,
   "metadata": {},
   "outputs": [],
   "source": [
    "from sklearn.decomposition import PCA\n",
    "pca = PCA(n_components=2)\n",
    "principalComponents = pca.fit_transform(stdDF.iloc[:,:8])\n",
    "\n",
    "PCAxTrain = principalComponents[:xTrain.shape[0], :]\n",
    "PCAxTest = principalComponents[xTrain.shape[0]:, :]"
   ]
  },
  {
   "cell_type": "code",
   "execution_count": null,
   "metadata": {
    "scrolled": false
   },
   "outputs": [],
   "source": [
    "pcaModel = LinearRegression().fit(PCAxTrain, yTrain)\n",
    "plotModel(pcaModel, PCAxTest, yTest, principalComponents, yAll)\n",
    "\n",
    "MSEs[\"alias1\"] = getModelMSE(pcaModel, PCAxTest, yTest)\n",
    "MSEsAll[\"alias1\"] = getModelMSE(pcaModel, principalComponents, yAll)"
   ]
  },
  {
   "cell_type": "markdown",
   "metadata": {},
   "source": [
    "Por alguna razón no hemos obtenido para nada buenos resultados, el modelo está concentrando todas las predicciones en valores muy cercanos al 0. No descartamos que podamos haber cometido algún error en la programación, pero revisando el código múltiples veces no parece ser el caso. Quizás el hecho de tener los datos tan desbalanceados en algunas de las variables ha afectado negativamente al PCA."
   ]
  },
  {
   "cell_type": "markdown",
   "metadata": {},
   "source": [
    "### - Modelo sólo con variables de distrbución normal (Alias: 2)"
   ]
  },
  {
   "cell_type": "markdown",
   "metadata": {},
   "source": [
    "Anteriormente habíamos detectado que algunas variables ('slag', 'flyash', 'superplasticizer', 'age') tenían unas distribuciones nada adecuadas para la regresión lineal. Esta vez vamos a elegir 'a mano' las variables que utilizaremos para entrenar el modelo. Estas serán 'cement', 'water', 'fineaggregate' y 'coarseaggregate' ya que sguína unas buenas distribuciones en sus histogramas esperamos que sean buenas variables con las que entranar al modelo."
   ]
  },
  {
   "cell_type": "code",
   "execution_count": null,
   "metadata": {
    "scrolled": false
   },
   "outputs": [],
   "source": [
    "normModelxTrain = xTrain[['cement', 'water', 'fineaggregate', 'coarseaggregate']] \n",
    "normModelxTest = xTest[['cement', 'water', 'fineaggregate', 'coarseaggregate']] \n",
    "\n",
    "normModel = LinearRegression().fit(normModelxTrain, yTrain)\n",
    "plotModel(normModel, normModelxTest, yTest, xAll[['cement', 'water', 'fineaggregate', 'coarseaggregate']], yAll)\n",
    "\n",
    "MSEs[\"alias2\"] = getModelMSE(normModel, normModelxTest, yTest)\n",
    "MSEsAll[\"alias2\"] = getModelMSE(normModel, xAll[['cement', 'water', 'fineaggregate', 'coarseaggregate']], yAll)"
   ]
  },
  {
   "cell_type": "markdown",
   "metadata": {},
   "source": [
    "Si bien el modelo no es desastroso, no alcanza el nivel del modelo 0, probablemente aunque las variables que hemos escogido sigan distribuciones buenas, no tengan la suficiente correlación como para conseguir un modelo lo suficientemente preciso. Al fin y al cabo estamos prescindiendo de variables como 'superplasticizer' o 'age' que mostraban una alta correlación en comparación al resto."
   ]
  },
  {
   "cell_type": "markdown",
   "metadata": {},
   "source": [
    "### - Modelos con tranformaciones de datos (Alias: 3-X)"
   ]
  },
  {
   "cell_type": "markdown",
   "metadata": {},
   "source": [
    "Tras documentarnos, hemos encontrado que una de los métodos más usados que existen para mejorar datos que adolecen de problemas como los grandes desbalanceos en la distribución que tienen algunas de nuestras varibles es aplicando transformaciones a estos.  \n",
    "\n",
    "Por lo tanto realizaremos un seguido de pruebas en este apartado con distintas tranformaciones para así intentar encontrar un tratamiento de los datos que mejore al máximo el rendimiento del modelo de regresión lineal.  \n",
    "\n",
    "Para realizar las tranformaciones, debemos situarnos en los datos originales (antes de estandarizarlos), por lo tanto, antes del entrenamiento de los modelos haremos la transformacion de los datos originales y la estandarización que ya habíamos realizado anteriormente."
   ]
  },
  {
   "cell_type": "markdown",
   "metadata": {},
   "source": [
    "#### 1. Modelo con transformación SQRT (Alias: 3-1)"
   ]
  },
  {
   "cell_type": "code",
   "execution_count": null,
   "metadata": {
    "scrolled": true
   },
   "outputs": [],
   "source": [
    "sqrtThenStdDF = np.sqrt(originalDF);\n",
    "standardScaler = preprocessing.StandardScaler()\n",
    "sqrtThenStdDF = pd.DataFrame(standardScaler.fit_transform(sqrtThenStdDF))\n",
    "sqrtThenStdDF.columns = originalDF.columns"
   ]
  },
  {
   "cell_type": "markdown",
   "metadata": {},
   "source": [
    "Ahora veamos que distribución de las variables nos deja esta transformación:"
   ]
  },
  {
   "cell_type": "code",
   "execution_count": null,
   "metadata": {},
   "outputs": [],
   "source": [
    "fig, axs = plt.subplots(3, 3)\n",
    "varIdx = 0\n",
    "for x in range(3):\n",
    "    for y in range (3):\n",
    "        plt.sca(axs[x,y])\n",
    "        axs[x,y].set_title(sqrtThenStdDF.columns[varIdx])\n",
    "        sqrtThenStdDF[sqrtThenStdDF.columns[varIdx]].hist(figsize=(13,9))\n",
    "        varIdx+=1\n",
    "fig.tight_layout()\n",
    "plt.show();"
   ]
  },
  {
   "cell_type": "code",
   "execution_count": null,
   "metadata": {},
   "outputs": [],
   "source": [
    "nTrain = xTrain.shape[0]\n",
    "nTest = xTest.shape[0]\n",
    "\n",
    "xTrainTransform = sqrtThenStdDF.iloc[:nTrain, :8]\n",
    "yTrainTransform = sqrtThenStdDF.iloc[:nTrain, 8:9]\n",
    "xTestTransform = sqrtThenStdDF.iloc[nTrain:, :8]\n",
    "yTestTranform = sqrtThenStdDF.iloc[nTrain:, 8:9]"
   ]
  },
  {
   "cell_type": "code",
   "execution_count": null,
   "metadata": {},
   "outputs": [],
   "source": [
    "model3_1 = LinearRegression().fit(xTrainTransform, yTrainTransform)\n",
    "plotModel(model3_1, xTestTransform, yTestTranform, sqrtThenStdDF.iloc[:, :8], sqrtThenStdDF.iloc[:, 8:9])\n",
    "\n",
    "MSEs[\"alias3-1\"] = getModelMSE(model3_1, xTestTransform, yTestTranform)\n",
    "MSEsAll[\"alias3-1\"] = getModelMSE(model3_1, sqrtThenStdDF.iloc[:, :8], sqrtThenStdDF.iloc[:, 8:9])"
   ]
  },
  {
   "cell_type": "markdown",
   "metadata": {},
   "source": [
    "#### 2. Modelo con transformación SQUARE (Alias: 3-2)"
   ]
  },
  {
   "cell_type": "code",
   "execution_count": null,
   "metadata": {},
   "outputs": [],
   "source": [
    "squareThenStdDF = np.square(originalDF);\n",
    "standardScaler = preprocessing.StandardScaler()\n",
    "squareThenStdDF = pd.DataFrame(standardScaler.fit_transform(squareThenStdDF))\n",
    "squareThenStdDF.columns = originalDF.columns"
   ]
  },
  {
   "cell_type": "markdown",
   "metadata": {},
   "source": [
    "Ahora veamos que distribución de las variables nos deja esta transformación:"
   ]
  },
  {
   "cell_type": "code",
   "execution_count": null,
   "metadata": {},
   "outputs": [],
   "source": [
    "fig, axs = plt.subplots(3, 3)\n",
    "varIdx = 0\n",
    "for x in range(3):\n",
    "    for y in range (3):\n",
    "        plt.sca(axs[x,y])\n",
    "        axs[x,y].set_title(squareThenStdDF.columns[varIdx])\n",
    "        squareThenStdDF[squareThenStdDF.columns[varIdx]].hist(figsize=(13,9))\n",
    "        varIdx+=1\n",
    "fig.tight_layout()\n",
    "plt.show();"
   ]
  },
  {
   "cell_type": "code",
   "execution_count": null,
   "metadata": {},
   "outputs": [],
   "source": [
    "nTrain = xTrain.shape[0]\n",
    "nTest = xTest.shape[0]\n",
    "\n",
    "xTrainTransform = squareThenStdDF.iloc[:nTrain, :8]\n",
    "yTrainTransform = squareThenStdDF.iloc[:nTrain, 8:9]\n",
    "xTestTransform = squareThenStdDF.iloc[nTrain:, :8]\n",
    "yTestTranform = squareThenStdDF.iloc[nTrain:, 8:9]"
   ]
  },
  {
   "cell_type": "code",
   "execution_count": null,
   "metadata": {
    "scrolled": false
   },
   "outputs": [],
   "source": [
    "model3_2 = LinearRegression().fit(xTrainTransform, yTrainTransform)\n",
    "plotModel(model3_2, xTestTransform, yTestTranform, squareThenStdDF.iloc[:, :8], squareThenStdDF.iloc[:, 8:9])\n",
    "\n",
    "MSEs[\"alias3-2\"] = getModelMSE(model3_2, xTestTransform, yTestTranform)\n",
    "MSEsAll[\"alias3-2\"] = getModelMSE(model3_2, squareThenStdDF.iloc[:, :8], squareThenStdDF.iloc[:, 8:9])"
   ]
  },
  {
   "cell_type": "markdown",
   "metadata": {},
   "source": [
    "#### 3. Modelo con transformación CBRT (Alias: 3-3)"
   ]
  },
  {
   "cell_type": "code",
   "execution_count": null,
   "metadata": {},
   "outputs": [],
   "source": [
    "cbrtThenStdDF = np.cbrt(originalDF);\n",
    "standardScaler = preprocessing.StandardScaler()\n",
    "cbrtThenStdDF = pd.DataFrame(standardScaler.fit_transform(cbrtThenStdDF))\n",
    "cbrtThenStdDF.columns = originalDF.columns"
   ]
  },
  {
   "cell_type": "markdown",
   "metadata": {},
   "source": [
    "Ahora veamos que distribución de las variables nos deja esta transformación:"
   ]
  },
  {
   "cell_type": "code",
   "execution_count": null,
   "metadata": {
    "scrolled": false
   },
   "outputs": [],
   "source": [
    "fig, axs = plt.subplots(3, 3)\n",
    "varIdx = 0\n",
    "for x in range(3):\n",
    "    for y in range (3):\n",
    "        plt.sca(axs[x,y])\n",
    "        axs[x,y].set_title(cbrtThenStdDF.columns[varIdx])\n",
    "        cbrtThenStdDF[cbrtThenStdDF.columns[varIdx]].hist(figsize=(13,9))\n",
    "        varIdx+=1\n",
    "fig.tight_layout()\n",
    "plt.show();"
   ]
  },
  {
   "cell_type": "code",
   "execution_count": null,
   "metadata": {},
   "outputs": [],
   "source": [
    "nTrain = xTrain.shape[0]\n",
    "nTest = xTest.shape[0]\n",
    "\n",
    "xTrainTransform = cbrtThenStdDF.iloc[:nTrain, :8]\n",
    "yTrainTransform = cbrtThenStdDF.iloc[:nTrain, 8:9]\n",
    "xTestTransform = cbrtThenStdDF.iloc[nTrain:, :8]\n",
    "yTestTranform = cbrtThenStdDF.iloc[nTrain:, 8:9]"
   ]
  },
  {
   "cell_type": "code",
   "execution_count": null,
   "metadata": {},
   "outputs": [],
   "source": [
    "model3_3 = LinearRegression().fit(xTrainTransform, yTrainTransform)\n",
    "plotModel(model3_3, xTestTransform, yTestTranform, cbrtThenStdDF.iloc[:, :8], cbrtThenStdDF.iloc[:, 8:9])\n",
    "\n",
    "MSEs[\"alias3-3\"] = getModelMSE(model3_3, xTestTransform, yTestTranform)\n",
    "MSEsAll[\"alias3-3\"] = getModelMSE(model3_3, cbrtThenStdDF.iloc[:, :8], cbrtThenStdDF.iloc[:, 8:9])"
   ]
  },
  {
   "cell_type": "markdown",
   "metadata": {},
   "source": [
    "#### 4. Modelo con transformación LOG (Alias: 3-4)"
   ]
  },
  {
   "cell_type": "code",
   "execution_count": null,
   "metadata": {},
   "outputs": [],
   "source": [
    "logThenStdDF = np.square(originalDF);\n",
    "standardScaler = preprocessing.StandardScaler()\n",
    "logThenStdDF = pd.DataFrame(standardScaler.fit_transform(logThenStdDF))\n",
    "logThenStdDF.columns = originalDF.columns"
   ]
  },
  {
   "cell_type": "markdown",
   "metadata": {},
   "source": [
    "Ahora veamos que distribución de las variables nos deja esta transformación:"
   ]
  },
  {
   "cell_type": "code",
   "execution_count": null,
   "metadata": {
    "scrolled": false
   },
   "outputs": [],
   "source": [
    "fig, axs = plt.subplots(3, 3)\n",
    "varIdx = 0\n",
    "for x in range(3):\n",
    "    for y in range (3):\n",
    "        plt.sca(axs[x,y])\n",
    "        axs[x,y].set_title(logThenStdDF.columns[varIdx])\n",
    "        logThenStdDF[logThenStdDF.columns[varIdx]].hist(figsize=(13,9))\n",
    "        varIdx+=1\n",
    "fig.tight_layout()\n",
    "plt.show();"
   ]
  },
  {
   "cell_type": "code",
   "execution_count": null,
   "metadata": {},
   "outputs": [],
   "source": [
    "nTrain = xTrain.shape[0]\n",
    "nTest = xTest.shape[0]\n",
    "\n",
    "xTrainTransform = logThenStdDF.iloc[:nTrain, :8]\n",
    "yTrainTransform = logThenStdDF.iloc[:nTrain, 8:9]\n",
    "xTestTransform = logThenStdDF.iloc[nTrain:, :8]\n",
    "yTestTranform = logThenStdDF.iloc[nTrain:, 8:9]"
   ]
  },
  {
   "cell_type": "code",
   "execution_count": null,
   "metadata": {},
   "outputs": [],
   "source": [
    "model3_4 = LinearRegression().fit(xTrainTransform, yTrainTransform)\n",
    "plotModel(model3_4, xTestTransform, yTestTranform, logThenStdDF.iloc[:, :8], logThenStdDF.iloc[:, 8:9])\n",
    "\n",
    "MSEs[\"alias3-4\"] = getModelMSE(model3_4, xTestTransform, yTestTranform)\n",
    "MSEsAll[\"alias3-4\"] = getModelMSE(model3_4, logThenStdDF.iloc[:, :8], logThenStdDF.iloc[:, 8:9])"
   ]
  },
  {
   "cell_type": "markdown",
   "metadata": {},
   "source": [
    "### 5. Modelo con transformación CBRT + selección arbitrária de datos (Alias: 3-5)"
   ]
  },
  {
   "cell_type": "code",
   "execution_count": null,
   "metadata": {},
   "outputs": [],
   "source": [
    "cbrtThenStdDF2 = np.cbrt(originalDF);\n",
    "standardScaler = preprocessing.StandardScaler()\n",
    "cbrtThenStdDF2 = pd.DataFrame(standardScaler.fit_transform(cbrtThenStdDF2))\n",
    "cbrtThenStdDF2.columns = originalDF.columns\n",
    "\n",
    "cbrtThenStdDF2.drop([\"superplasticizer\",\"coarseaggregate\",\"fineaggregate\"], axis=1, inplace=True)\n"
   ]
  },
  {
   "cell_type": "markdown",
   "metadata": {},
   "source": [
    "Ahora veamos que distribución de las variables nos deja esta transformación:"
   ]
  },
  {
   "cell_type": "code",
   "execution_count": null,
   "metadata": {
    "scrolled": false
   },
   "outputs": [],
   "source": [
    "fig, axs = plt.subplots(2, 3)\n",
    "varIdx = 0\n",
    "for x in range(2):\n",
    "    for y in range (3):\n",
    "        plt.sca(axs[x,y])\n",
    "        axs[x,y].set_title(cbrtThenStdDF2.columns[varIdx])\n",
    "        cbrtThenStdDF2[cbrtThenStdDF2.columns[varIdx]].hist(figsize=(13,9))\n",
    "        varIdx+=1\n",
    "fig.tight_layout()\n",
    "plt.show();"
   ]
  },
  {
   "cell_type": "code",
   "execution_count": null,
   "metadata": {},
   "outputs": [],
   "source": [
    "xTrainTransform = cbrtThenStdDF2.iloc[:nTrain, :5]\n",
    "yTrainTransform = cbrtThenStdDF2.iloc[:nTrain, 5:6]\n",
    "xTestTransform = cbrtThenStdDF2.iloc[nTrain:, :5]\n",
    "yTestTranform = cbrtThenStdDF2.iloc[nTrain:, 5:6]"
   ]
  },
  {
   "cell_type": "code",
   "execution_count": null,
   "metadata": {},
   "outputs": [],
   "source": [
    "model3_5 = LinearRegression().fit(xTrainTransform, yTrainTransform)\n",
    "plotModel(model3_5, xTestTransform, yTestTranform, cbrtThenStdDF2.iloc[:, :5], cbrtThenStdDF2.iloc[:, 5:6])\n",
    "\n",
    "MSEs[\"alias3-5\"] = getModelMSE(model3_5, xTestTransform, yTestTranform)\n",
    "MSEsAll[\"alias3-5\"] = getModelMSE(model3_5, cbrtThenStdDF2.iloc[:, :5], cbrtThenStdDF2.iloc[:, 5:6])"
   ]
  },
  {
   "cell_type": "code",
   "execution_count": null,
   "metadata": {},
   "outputs": [],
   "source": [
    "for key in MSEs:\n",
    "    str1 = str(MSEs[key])\n",
    "    str1fin = str1.split()[1]\n",
    "    MSEs[key]=float(str1fin)\n",
    "    \n",
    "for key in MSEsAll:\n",
    "    str1 = str(MSEsAll[key])\n",
    "    str1fin = str1.split()[1]\n",
    "    MSEsAll[key]=float(str1fin)\n"
   ]
  },
  {
   "cell_type": "code",
   "execution_count": null,
   "metadata": {},
   "outputs": [],
   "source": [
    "plt.figure(figsize=(15,6))\n",
    "plt.title(\"Test MSE\")\n",
    "plt.bar(*zip(*MSEs.items()))\n",
    "for value, index in enumerate(MSEs.values()):\n",
    "    plt.text(value-0.15, index+0.01, str(index))\n",
    "plt.show();\n",
    "\n",
    "plt.figure(figsize=(15,6))\n",
    "plt.title(\"All MSE\")\n",
    "plt.bar(*zip(*MSEsAll.items()))\n",
    "for value, index in enumerate(MSEsAll.values()):\n",
    "    plt.text(value-0.15, index+0.01, str(index))\n",
    "plt.show();"
   ]
  },
  {
   "cell_type": "markdown",
   "metadata": {},
   "source": [
    "Este gráfico nos ayuda a comprender los MSE de cada modelo entrenado. Ayudándonos por los alias con los que hemos clasificado nuestros modelos, vemos como el modelo alias 3-1, el alias 3-3 y el alias 3-5 son los mejores modelos que hemos obtenido, respectivamente siendo el modelo con transformación SQRT, el modelo con transformación CBRT y el modelo con transformación CBRT eliminando los atributos de la mezcla que no tenian una correlación suficiente.\n",
    "\n",
    "Hacemos un estudio de los resultados del test ya que son aquellos datos que el modelo no ha visto y se basa en los entrenamientos que ha hecho, viendo como son resultados muy similares cuando se compara con los resultados generales de los distintos modelos.\n",
    "\n",
    "Viendo los resultados podemos concluir que, al menos con nuestro dataset, los mejores modelos se obtienen aplicando transformaciones que aplican exponentes positivos por debajo del 1. En nuestro caso hemos probado con raíces cuadradas y raíces cúbicas.\n",
    "\n",
    "Como hemos comprobado que hay una diferencia mínima entre los resultados con todos los atributos y los resultados prescindiendo de aquellos atributos los cuales su correlación no es muy significativa, se puede concluir que las correlaciones obtenidas son correctas. "
   ]
  },
  {
   "cell_type": "markdown",
   "metadata": {},
   "source": [
    "## 3. Descenso de gradiente (A)"
   ]
  },
  {
   "cell_type": "code",
   "execution_count": null,
   "metadata": {},
   "outputs": [],
   "source": [
    "class Regressor(object):\n",
    "    def __init__(self, alpha, x_values, y_values):\n",
    "        #Creamos un array con todos los pesos\n",
    "        self.w = np.zeros(x_values.shape[1])\n",
    "        \n",
    "        self.alpha = alpha\n",
    "        \n",
    "        self.y_values = y_values\n",
    "        self.x_values = x_values \n",
    "        \n",
    "    \n",
    "    def train(self, max_iter):\n",
    "        # Entrenar durant max_iter iteracions\n",
    "        m = len(self.y_values)\n",
    "        cost_history = [0] * max_iter\n",
    "        for it in range(max_iter):\n",
    "            predict = self.x_values.dot(self.w) #calculem la prediccio\n",
    "            loss = predict - self.y_values #calculem la perduda\n",
    "            gradient = self.x_values.T.dot(loss) / m #calculem el gradient\n",
    "            self.w = self.w - self.alpha * gradient #actualitzem els pesos\n",
    "            cost = self.cost_function() # #calculem nou cost\n",
    "            cost_history[it] = cost\n",
    "           \n",
    "        \n",
    "        return self.w, cost_history\n",
    "    \n",
    "    def predict(self, x):\n",
    "        predict = x.dot(self.w)\n",
    "        return predict\n",
    "    \n",
    "    \n",
    "    def cost_function(self):\n",
    "        m = len(self.y_values)\n",
    "        j = np.sum((self.x_values.dot(self.w) - self.y_values) ** 2) / (2 * m)\n",
    "        return j\n",
    "    \n",
    "#calcula el score    \n",
    "def r2(y_,y):\n",
    "    sst = np.sum((y-y.mean())**2)\n",
    "    ssr = np.sum((y_-y)**2)\n",
    "    r2 = 1-(ssr/sst)\n",
    "    return r2"
   ]
  },
  {
   "cell_type": "markdown",
   "metadata": {},
   "source": [
    "Esta clase se encargara de almacenar i actualizar los pesos de cada atributo, mientras que la funcion r2 nos devolverá el score de nuestro modelo.\n",
    "\n",
    "### Creación del modelo\n",
    "\n",
    "Ahora simplemente semparamos nuestros datos estandarizados en train y test y creamos nuestro modelo con un learning rate y unas iteraciones arbitrarias e iremos probando hasta conseguir un buen resultado."
   ]
  },
  {
   "cell_type": "code",
   "execution_count": null,
   "metadata": {},
   "outputs": [],
   "source": [
    "sqrtThenStdDF = np.sqrt(originalDF);\n",
    "standardScaler = preprocessing.StandardScaler()\n",
    "sqrtThenStdDF = pd.DataFrame(standardScaler.fit_transform(sqrtThenStdDF))\n",
    "sqrtThenStdDF.columns = originalDF.columns\n",
    "\n",
    "# separamos los datos en train y test\n",
    "xTrain, xTest, yTrain, yTest = train_test_split(sqrtThenStdDF.values[:,:8], sqrtThenStdDF.values[:,8], test_size=0.2) "
   ]
  },
  {
   "cell_type": "code",
   "execution_count": null,
   "metadata": {},
   "outputs": [],
   "source": [
    "learningrate = 0.95\n",
    "GD=Regressor(learningrate,xTrain,yTrain) #learning rate,xtrain,ytrain\n",
    "\n",
    "iterations= 100\n",
    "W,c_history = GD.train(iterations) #entrenamos\n",
    "\n",
    "b = np.zeros(iterations)\n",
    "c_history = np.array(c_history)\n",
    "for i in range(iterations):\n",
    "    b[i] = i\n",
    "\n",
    "y_pre = GD.predict(xTest)    \n",
    "\n",
    "fig, (ax1, ax2) = plt.subplots(2, figsize=(10,7))\n",
    "\n",
    "ax1.plot(b,c_history)\n",
    "ax1.set_title(f\"Coste por iteracion \\n coste minimo: {min(c_history)} \\n learning rate: {learningrate} \\n score {r2(y_pre,yTest)}\")\n",
    "ax1.set_xlabel(\"cost\")\n",
    "ax1.set_ylabel(\"iteraciones\")\n",
    "\n",
    "ax2.scatter([\"cement\",\"slag\",\"flyash\",\"water\",\"sp\",\"ca\",\"fa\",\"age\"],W)\n",
    "ax2.set_ylabel(\"Pesos atributs\")\n",
    "plt.plot()"
   ]
  },
  {
   "cell_type": "code",
   "execution_count": null,
   "metadata": {},
   "outputs": [],
   "source": [
    "learningrate = 0.01\n",
    "GD=Regressor(learningrate,xTrain,yTrain) #learning rate,xtrain,ytrain\n",
    "\n",
    "iterations= 100\n",
    "W,c_history = GD.train(iterations)\n",
    "\n",
    "b = np.zeros(iterations)\n",
    "c_history = np.array(c_history)\n",
    "for i in range(iterations):\n",
    "    b[i] = i\n",
    "\n",
    "y_pre = GD.predict(xTest)    \n",
    "\n",
    "fig, (ax1, ax2) = plt.subplots(2, figsize=(10,7))\n",
    "\n",
    "ax1.plot(b,c_history)\n",
    "ax1.set_title(f\"Coste por iteracion \\n coste minimo: {min(c_history)} \\n learning rate: {learningrate} \\n score {r2(y_pre,yTest)}\")\n",
    "ax1.set_xlabel(\"cost\")\n",
    "ax1.set_ylabel(\"iteraciones\")\n",
    "\n",
    "ax2.scatter([\"cement\",\"slag\",\"flyash\",\"water\",\"sp\",\"ca\",\"fa\",\"age\"],W)\n",
    "ax2.set_ylabel(\"Pesos atributs\")\n",
    "plt.plot()"
   ]
  },
  {
   "cell_type": "code",
   "execution_count": null,
   "metadata": {},
   "outputs": [],
   "source": [
    "learningrate = 0.001\n",
    "GD=Regressor(learningrate,xTrain,yTrain) #learning rate,xtrain,ytrain\n",
    "\n",
    "iterations= 10000\n",
    "W,c_history = GD.train(iterations)\n",
    "\n",
    "b = np.zeros(iterations)\n",
    "c_history = np.array(c_history)\n",
    "for i in range(iterations):\n",
    "    b[i] = i\n",
    "\n",
    "y_pre = GD.predict(xTest)    \n",
    "\n",
    "fig, (ax1, ax2) = plt.subplots(2, figsize=(10,7))\n",
    "\n",
    "ax1.plot(b,c_history)\n",
    "ax1.set_title(f\"Coste por iteracion \\n coste minimo: {min(c_history)} \\n learning rate: {learningrate} \\n score {r2(y_pre,yTest)}\")\n",
    "ax1.set_xlabel(\"cost\")\n",
    "ax1.set_ylabel(\"iteraciones\")\n",
    "\n",
    "ax2.scatter([\"cement\",\"slag\",\"flyash\",\"water\",\"sp\",\"ca\",\"fa\",\"age\"],W)\n",
    "ax2.set_ylabel(\"Pesos atributs\")\n",
    "plt.plot()"
   ]
  },
  {
   "cell_type": "code",
   "execution_count": null,
   "metadata": {},
   "outputs": [],
   "source": [
    "learningrate = 0.01\n",
    "GD=Regressor(learningrate,xTrain,yTrain) #learning rate,xtrain,ytrain\n",
    "\n",
    "iterations= 10000\n",
    "W,c_history = GD.train(iterations)\n",
    "\n",
    "b = np.zeros(iterations)\n",
    "c_history = np.array(c_history)\n",
    "for i in range(iterations):\n",
    "    b[i] = i\n",
    "\n",
    "y_pre = GD.predict(xTest)    \n",
    "\n",
    "fig, (ax1, ax2) = plt.subplots(2, figsize=(10,7))\n",
    "\n",
    "ax1.plot(b,c_history)\n",
    "ax1.set_title(f\"Coste por iteracion \\n coste minimo: {min(c_history)} \\n learning rate: {learningrate} \\n score {r2(y_pre,yTest)}\")\n",
    "ax1.set_xlabel(\"cost\")\n",
    "ax1.set_ylabel(\"iteraciones\")\n",
    "\n",
    "ax2.scatter([\"cement\",\"slag\",\"flyash\",\"water\",\"sp\",\"ca\",\"fa\",\"age\"],W)\n",
    "ax2.set_ylabel(\"Pesos atributs\")\n",
    "plt.plot()"
   ]
  },
  {
   "cell_type": "code",
   "execution_count": null,
   "metadata": {},
   "outputs": [],
   "source": [
    "learningrate = 0.01\n",
    "GD=Regressor(learningrate,xTrain,yTrain) #learning rate,xtrain,ytrain\n",
    "\n",
    "iterations= 100000\n",
    "W,c_history = GD.train(iterations)\n",
    "\n",
    "b = np.zeros(iterations)\n",
    "c_history = np.array(c_history)\n",
    "for i in range(iterations):\n",
    "    b[i] = i\n",
    "\n",
    "y_pre = GD.predict(xTest)    \n",
    "\n",
    "fig, (ax1, ax2) = plt.subplots(2, figsize=(10,7))\n",
    "\n",
    "ax1.plot(b,c_history)\n",
    "ax1.set_title(f\"Coste por iteracion \\n coste minimo: {min(c_history)} \\n learning rate: {learningrate} \\n score {r2(y_pre,yTest)}\")\n",
    "ax1.set_xlabel(\"cost\")\n",
    "ax1.set_ylabel(\"iteraciones\")\n",
    "\n",
    "ax2.scatter([\"cement\",\"slag\",\"flyash\",\"water\",\"sp\",\"ca\",\"fa\",\"age\"],W)\n",
    "ax2.set_ylabel(\"Pesos atributs\")\n",
    "plt.plot()"
   ]
  },
  {
   "cell_type": "markdown",
   "metadata": {},
   "source": [
    "Tras estas pruebas concluimos que llegados a cierto punto aumentar el numero de iteraciones no otorga una mejora importante en el modelo. En cuanto el learning rate es importante dar con un buen valor ya que si es demasiado grande el coste empezara a crecer muy pronto y nos saltaremos el mínimo, pero si es demasiado pequeño le costará muchas iteraciones llegar hasta este mismo mínimo.\n",
    "\n",
    "Tambien vemos  en los como los atributos com mayor importancia són 'age','slag' y 'cement' como ya habiamos visto cuando mirabamos la correlación de los atributos. Destacar que 'water es el único atributo con un peso negativo y el resto tienen un peso cercano a zero."
   ]
  },
  {
   "cell_type": "code",
   "execution_count": null,
   "metadata": {},
   "outputs": [],
   "source": []
  }
 ],
 "metadata": {
  "kernelspec": {
   "display_name": "Python 3",
   "language": "python",
   "name": "python3"
  },
  "language_info": {
   "codemirror_mode": {
    "name": "ipython",
    "version": 3
   },
   "file_extension": ".py",
   "mimetype": "text/x-python",
   "name": "python",
   "nbconvert_exporter": "python",
   "pygments_lexer": "ipython3",
   "version": "3.8.2"
  }
 },
 "nbformat": 4,
 "nbformat_minor": 4
}
